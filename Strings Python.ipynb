{
 "cells": [
  {
   "cell_type": "code",
   "execution_count": 1,
   "id": "2215773f",
   "metadata": {},
   "outputs": [
    {
     "data": {
      "text/plain": [
       "'ya'"
      ]
     },
     "execution_count": 1,
     "metadata": {},
     "output_type": "execute_result"
    }
   ],
   "source": [
    "#1. Given a string, return the string made of its first two chars, so the String \"Hello\" yields \"He\". If the string is shorter than length 2, return whatever there is, so \"X\" yields \"X\", and the empty string \"\" yields the empty string \"\".\n",
    "a = 'yasasvi'\n",
    "a[:2]"
   ]
  },
  {
   "cell_type": "code",
   "execution_count": 5,
   "id": "980709c5",
   "metadata": {},
   "outputs": [
    {
     "data": {
      "text/plain": [
       "'vivivi'"
      ]
     },
     "execution_count": 5,
     "metadata": {},
     "output_type": "execute_result"
    }
   ],
   "source": [
    "#2. Given a string, return a new string made of 3 copies of the last 2 chars of the original string. The string length will be at least 2.\n",
    "a[-2:]*3"
   ]
  },
  {
   "cell_type": "code",
   "execution_count": 12,
   "id": "7ccccb19",
   "metadata": {},
   "outputs": [
    {
     "data": {
      "text/plain": [
       "'yas'"
      ]
     },
     "execution_count": 12,
     "metadata": {},
     "output_type": "execute_result"
    }
   ],
   "source": [
    "#3. Given a string of even length, return the first half. So the string \"WooHoo\" yields \"Woo\".\n",
    "b = 'yasasv'\n",
    "c=len(b)//2\n",
    "b[:c]"
   ]
  },
  {
   "cell_type": "code",
   "execution_count": 18,
   "id": "38ad1357",
   "metadata": {},
   "outputs": [
    {
     "data": {
      "text/plain": [
       "'asasv'"
      ]
     },
     "execution_count": 18,
     "metadata": {},
     "output_type": "execute_result"
    }
   ],
   "source": [
    "#4. Given a string, return a version without the first and last char, so \"Hello\" yields \"ell\". The string length will be at least 2.\n",
    "a[1:-1]"
   ]
  },
  {
   "cell_type": "code",
   "execution_count": 22,
   "id": "4def3338",
   "metadata": {},
   "outputs": [
    {
     "name": "stdout",
     "output_type": "stream",
     "text": [
      "hello\n",
      "hi\n"
     ]
    },
    {
     "data": {
      "text/plain": [
       "'hellohihihello'"
      ]
     },
     "execution_count": 22,
     "metadata": {},
     "output_type": "execute_result"
    }
   ],
   "source": [
    "#5. Given two strings, a and b, return the result of putting them together in the order abba, e.g. \"Hi\" and \"Bye\" returns \"HiByeByeHi\".\n",
    "a = \"hello\"\n",
    "b = \"hi\"\n",
    "print(a)\n",
    "print(b)\n",
    "c = a+b+b+a\n",
    "c"
   ]
  },
  {
   "cell_type": "code",
   "execution_count": 26,
   "id": "f0f7f0be",
   "metadata": {},
   "outputs": [
    {
     "data": {
      "text/plain": [
       "'hihellohi'"
      ]
     },
     "execution_count": 26,
     "metadata": {},
     "output_type": "execute_result"
    }
   ],
   "source": [
    "#6. Given 2 strings, a and b, return a string of the form short+long+short, with the shorter string on the outside and the longer string on the inside. The strings will not be the same length, but they may be empty (length 0).\n",
    "if len(a)<len(b):\n",
    "    c = a+b+a\n",
    "else:\n",
    "    c = b+a+b    \n",
    "c"
   ]
  },
  {
   "cell_type": "code",
   "execution_count": 29,
   "id": "828fd585",
   "metadata": {},
   "outputs": [
    {
     "data": {
      "text/plain": [
       "'elloi'"
      ]
     },
     "execution_count": 29,
     "metadata": {},
     "output_type": "execute_result"
    }
   ],
   "source": [
    "#7. Given 2 strings, return their concatenation, except omit the first char of each. The strings will be at least length 1.\n",
    "c = a[1:]+b[1:]\n",
    "c"
   ]
  },
  {
   "cell_type": "code",
   "execution_count": 31,
   "id": "ea0c7ae6",
   "metadata": {},
   "outputs": [
    {
     "data": {
      "text/plain": [
       "'llohe'"
      ]
     },
     "execution_count": 31,
     "metadata": {},
     "output_type": "execute_result"
    }
   ],
   "source": [
    "#8. Given a string, return a \"rotated left 2\" version where the first 2 chars are moved to the end. The string length will be at least 2.\n",
    "c = a[2:]+a[:2]\n",
    "c"
   ]
  },
  {
   "cell_type": "code",
   "execution_count": null,
   "id": "ab688ed0",
   "metadata": {},
   "outputs": [],
   "source": []
  }
 ],
 "metadata": {
  "kernelspec": {
   "display_name": "Python 3 (ipykernel)",
   "language": "python",
   "name": "python3"
  },
  "language_info": {
   "codemirror_mode": {
    "name": "ipython",
    "version": 3
   },
   "file_extension": ".py",
   "mimetype": "text/x-python",
   "name": "python",
   "nbconvert_exporter": "python",
   "pygments_lexer": "ipython3",
   "version": "3.9.12"
  }
 },
 "nbformat": 4,
 "nbformat_minor": 5
}
